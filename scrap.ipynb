{
 "cells": [
  {
   "cell_type": "code",
   "execution_count": null,
   "id": "a2169e77",
   "metadata": {},
   "outputs": [],
   "source": [
    "print(\"GEMINI WEBSCRAP\")"
   ]
  },
  {
   "cell_type": "code",
   "execution_count": 1,
   "id": "2dc64884",
   "metadata": {},
   "outputs": [
    {
     "data": {
      "text/plain": [
       "True"
      ]
     },
     "execution_count": 1,
     "metadata": {},
     "output_type": "execute_result"
    }
   ],
   "source": [
    "from langchain_google_genai import ChatGoogleGenerativeAI\n",
    "from dotenv import load_dotenv\n",
    "import os\n",
    "load_dotenv()"
   ]
  },
  {
   "cell_type": "code",
   "execution_count": 2,
   "id": "c363a9ca",
   "metadata": {},
   "outputs": [],
   "source": [
    "GOOGLE_API_KEY=os.getenv(\"GOOGLE_API_KEY\")"
   ]
  },
  {
   "cell_type": "code",
   "execution_count": 4,
   "id": "04416121",
   "metadata": {},
   "outputs": [],
   "source": [
    "llm=ChatGoogleGenerativeAI(\n",
    "    model='gemini-2.5-flash',\n",
    "    temperature=0.4,\n",
    "    top_p=0.9\n",
    ")"
   ]
  },
  {
   "cell_type": "code",
   "execution_count": 5,
   "id": "a971add6",
   "metadata": {},
   "outputs": [
    {
     "data": {
      "text/plain": [
       "AIMessage(content='Web scraping is a technique used to **automatically extract data from websites**. Instead of manually copying and pasting information, a web scraper (which is a program or script) is designed to browse web pages, parse their content (usually HTML), and extract specific data points, then store them in a structured format (like a CSV file, JSON, or a database).\\n\\n**How it generally works:**\\n\\n1.  **Request:** The scraper sends an HTTP request to a website\\'s server, just like your browser does when you visit a page.\\n2.  **Receive:** The server responds with the website\\'s content, typically in HTML, CSS, and JavaScript.\\n3.  **Parse:** The scraper then parses this content, looking for specific elements (e.g., text within a certain tag, image URLs, links, prices, product descriptions).\\n4.  **Extract:** It extracts the desired data.\\n5.  **Store:** The extracted data is then saved in a usable format.\\n\\n**Common Use Cases for Web Scraping:**\\n\\n*   **Market Research & Price Comparison:** Gathering product prices and features from e-commerce sites.\\n*   **Lead Generation:** Collecting contact information from business directories.\\n*   **News Aggregation:** Building a feed of articles from various news sources.\\n*   **Competitive Analysis:** Monitoring competitors\\' strategies, products, or pricing.\\n*   **Academic Research:** Collecting large datasets for analysis.\\n*   **Job Boards:** Aggregating job postings from multiple sites.\\n\\n---\\n\\n## Is Web Scraping Legal?\\n\\nThis is the tricky part, and the answer is **\"it depends.\"** Web scraping itself is not inherently illegal, but its legality is determined by several factors, including:\\n\\n1.  **Terms of Service (ToS) / Terms of Use:**\\n    *   Most websites have ToS that explicitly prohibit automated scraping. If you scrape a site that forbids it, you could be in breach of contract. While this isn\\'t a criminal offense, it can lead to civil lawsuits, account bans, or IP blocking.\\n    *   **Key point:** Violating ToS doesn\\'t automatically make it illegal in a broader sense, but it can make it legally actionable by the website owner.\\n\\n2.  **Copyright Law:**\\n    *   If the data you\\'re scraping is copyrighted (e.g., original articles, photos, unique product descriptions), and you reproduce or republish it without permission, you could be infringing on copyright.\\n    *   **Key point:** Scraping facts or public domain information is generally safer than scraping creative works.\\n\\n3.  **Data Privacy Laws (e.g., GDPR, CCPA):**\\n    *   Scraping personal identifiable information (PII) like names, email addresses, phone numbers, or other sensitive data is highly regulated. If you collect such data without consent or a legitimate legal basis, you could be violating privacy laws, which carry significant penalties.\\n    *   **Key point:** Be extremely cautious when scraping any data that could identify an individual.\\n\\n4.  **Computer Fraud and Abuse Act (CFAA - US specific) / Trespass to Chattels:**\\n    *   These laws can come into play if your scraping activities are deemed to be \"unauthorized access\" to a computer system, or if you cause damage or significant disruption to the website\\'s servers.\\n    *   **Key point:** Overloading a server with too many requests, bypassing security measures, or accessing data behind a login without permission can be considered illegal.\\n\\n5.  **Robots.txt File:**\\n    *   This file (e.g., `www.example.com/robots.txt`) is a standard that websites use to communicate their scraping preferences to bots. It tells crawlers which parts of the site they are allowed or not allowed to access.\\n    *   **Key point:** While `robots.txt` is not legally binding in itself, ignoring it can be seen as a strong indicator of bad faith and could be used as evidence against you in a legal dispute, especially if combined with other violations.\\n\\n6.  **Public vs. Private Data:**\\n    *   Data that is publicly displayed on a website (i.e., accessible without a login or special permissions) is generally considered less legally risky to scrape than data behind a login wall. However, even public data can be protected by copyright or ToS.\\n\\n**Recent Court Cases:**\\n\\nThe legal landscape is still evolving. A notable case is **LinkedIn vs. hiQ Labs**, where a US appeals court initially sided with hiQ, allowing them to scrape public LinkedIn profiles, citing that data publicly available on the internet is not protected by the CFAA. However, the Supreme Court later vacated that ruling and sent it back for reconsideration, indicating the complexity and ongoing debate around these issues.\\n\\n**Best Practices for Ethical and (More) Legal Scraping:**\\n\\n*   **Always check the website\\'s Terms of Service.**\\n*   **Respect the `robots.txt` file.**\\n*   **Prioritize using an API** if the website offers one. This is the intended way to access their data programmatically.\\n*   **Be gentle:** Don\\'t overload the server with too many requests. Implement delays between requests.\\n*   **Identify yourself:** Use a custom `User-Agent` header so the website knows who is accessing their data.\\n*   **Avoid scraping personal or sensitive data.**\\n*   **Do not re-publish copyrighted content.** Transform, aggregate, or summarize instead.\\n*   **Consult legal counsel** if you plan a large-scale or commercial scraping operation.\\n\\nIn summary, while web scraping is a powerful tool, it exists in a legal gray area. Proceed with caution, prioritize ethical behavior, and always be mindful of the website owner\\'s rights and the legal implications of your actions.', additional_kwargs={}, response_metadata={'prompt_feedback': {'block_reason': 0, 'safety_ratings': []}, 'finish_reason': 'STOP', 'model_name': 'gemini-2.5-flash', 'safety_ratings': []}, id='run--2e84c430-c875-4fdb-b632-3e52757706c7-0', usage_metadata={'input_tokens': 11, 'output_tokens': 2406, 'total_tokens': 2417, 'input_token_details': {'cache_read': 0}, 'output_token_details': {'reasoning': 1179}})"
      ]
     },
     "execution_count": 5,
     "metadata": {},
     "output_type": "execute_result"
    }
   ],
   "source": [
    "llm.invoke(\"What is Web Scraping and is it legal?\").content"
   ]
  },
  {
   "cell_type": "code",
   "execution_count": 109,
   "id": "aafdda15",
   "metadata": {},
   "outputs": [],
   "source": [
    "from langchain_groq import ChatGroq"
   ]
  },
  {
   "cell_type": "code",
   "execution_count": 111,
   "id": "33f4d158",
   "metadata": {},
   "outputs": [],
   "source": [
    "llm_groq=ChatGroq(\n",
    "    model=\"deepseek-r1-distill-llama-70b\",\n",
    "    temperature=0.4\n",
    ")"
   ]
  },
  {
   "cell_type": "code",
   "execution_count": 113,
   "id": "a7935a1e",
   "metadata": {},
   "outputs": [
    {
     "data": {
      "text/plain": [
       "\"<think>\\nOkay, so I'm trying to understand the difference between hacking and web scraping. I've heard both terms before, but I'm not entirely sure how they differ. Let me start by breaking down each term as I understand it.\\n\\nHacking, from what I know, usually involves unauthorized access to computer systems or networks. I've seen movies where hackers break into secure databases or take over systems. So, hacking seems to be about bypassing security measures to gain access where they shouldn't. It can be illegal and is often associated with malicious activities like stealing data or causing damage.\\n\\nOn the other hand, web scraping sounds like it's about extracting data from websites. I've heard that companies use web scraping for things like market research or monitoring prices. It involves using tools or scripts to automatically gather information from web pages. But I'm not sure if this is always legal. I think it depends on how it's done and whether it's allowed by the website's terms of service.\\n\\nWait, so both hacking and web scraping involve interacting with websites, but in different ways. Hacking is more about unauthorized access to systems, while web scraping is about extracting data from websites, which might be done with or without permission. But how exactly do they differ in terms of legality and methods?\\n\\nI'm also wondering about the techniques involved. Hacking might involve exploiting vulnerabilities, using malware, or phishing to gain access. Web scraping, though, probably uses more straightforward methods like HTTP requests and parsing HTML. So the tools and approaches are different.\\n\\nAnother point is the intent. Hacking is often malicious, aiming to cause harm or steal information. Web scraping can have both legitimate and illegitimate uses. For example, scraping data for competitive analysis is legal if done properly, but scraping to steal sensitive information would be illegal.\\n\\nI'm also thinking about the legality aspect. Web scraping exists in a gray area. Some websites allow it in their terms of service, while others prohibit it. There are even cases where web scraping is considered legal as long as it's done without violating other laws, like copyright infringement. Hacking, however, is generally illegal because it involves unauthorized access.\\n\\nSo, to summarize my thoughts: Hacking is about unauthorized access to systems or data, often with malicious intent, using various techniques to bypass security. Web scraping is about extracting data from websites, which can be done legally or illegally depending on the method and permissions, and it's typically done using automated tools that interact with the website's front end.\\n\\nI should also consider examples to clarify. For hacking, examples might include breaking into a database to steal user information or defacing a website. For web scraping, examples could be a company extracting product prices from a competitor's site or a researcher gathering public data for analysis.\\n\\nI'm still a bit confused about where the line is drawn. For instance, if someone uses web scraping tools in a way that's against the website's terms, is that considered hacking? Or is it still web scraping but just illegal? I think it's still web scraping, but it's done in an unauthorized manner, which might lead to legal consequences, but it's not classified as hacking because it doesn't involve breaking into secure systems.\\n\\nSo, in essence, the main differences are the intent, the methods used, and the legality. Hacking is unauthorized access with malicious intent, using various techniques to breach security. Web scraping is about data extraction, which can be legal or illegal depending on how it's done and whether it's authorized.\\n</think>\\n\\nThe distinction between hacking and web scraping can be understood through their definitions, methods, intent, and legality:\\n\\n1. **Hacking**:\\n   - **Definition**: Hacking involves unauthorized access to computer systems, networks, or data, often with malicious intent.\\n   - **Methods**: Typically involves exploiting vulnerabilities, using malware, phishing, or other techniques to bypass security measures.\\n   - **Intent**: Usually malicious, aiming to steal data, disrupt systems, or cause harm.\\n   - **Legality**: Generally illegal, as it involves unauthorized access and often results in harm.\\n\\n2. **Web Scraping**:\\n   - **Definition**: Web scraping is the process of extracting data from websites using automated tools or scripts.\\n   - **Methods**: Utilizes HTTP requests and HTML parsing to gather information from web pages.\\n   - **Intent**: Can be both legitimate (e.g., market research) or illegitimate (e.g., stealing sensitive data).\\n   - **Legality**: Exists in a gray area; legality depends on compliance with website terms of service and laws like copyright infringement.\\n\\n3. **Key Differences**:\\n   - **Intent and Method**: Hacking is about unauthorized access with malicious intent, while web scraping focuses on data extraction, which can be benign or malicious.\\n   - **Legality**: Hacking is illegal, whereas web scraping's legality varies based on permissions and methods.\\n   - **Techniques**: Hacking involves breaching security, whereas web scraping interacts with the website's front end using automated tools.\\n\\nIn summary, hacking involves unauthorized access with malicious intent, while web scraping is about data extraction, which can be legal or illegal depending on the context and permissions.\""
      ]
     },
     "execution_count": 113,
     "metadata": {},
     "output_type": "execute_result"
    }
   ],
   "source": [
    "llm_groq.invoke(\"What is Diff bwtween hacking and web scraping?\").content"
   ]
  },
  {
   "cell_type": "markdown",
   "id": "37a94d9c",
   "metadata": {},
   "source": [
    "FUNCTION TO GET WEB CONTENT"
   ]
  },
  {
   "cell_type": "code",
   "execution_count": 6,
   "id": "dc95345d",
   "metadata": {},
   "outputs": [],
   "source": [
    "from bs4 import BeautifulSoup\n",
    "import requests\n",
    "\n",
    "def web_scrap(url:str):\n",
    "    response=requests.get(url)\n",
    "    html_content=response.text\n",
    "    soup = BeautifulSoup(html_content, \"lxml\")\n",
    "    text = soup.get_text()\n",
    "    text = ' '.join(text.split())\n",
    "    if text:\n",
    "        return text\n",
    "\n"
   ]
  },
  {
   "cell_type": "code",
   "execution_count": 114,
   "id": "79fbb58e",
   "metadata": {},
   "outputs": [],
   "source": [
    "from langchain.prompts import PromptTemplate\n",
    "from langchain.chains import LLMChain\n",
    "\n"
   ]
  },
  {
   "cell_type": "code",
   "execution_count": 81,
   "id": "de984ba2",
   "metadata": {},
   "outputs": [],
   "source": [
    "template_context=\"\"\"You are a web scraper bot. you will get a context and user query based on user query you have to retrieve most relievent big context and output it as simple as that. \n",
    "|\n",
    "Dont add any of your word.\n",
    "Here is user query: {question}\n",
    "Here is context: {context}\"\"\"\n",
    "prompt_context=PromptTemplate(template=template_context,input_variables=['question','context'])"
   ]
  },
  {
   "cell_type": "code",
   "execution_count": 128,
   "id": "b534b9ba",
   "metadata": {},
   "outputs": [],
   "source": [
    "context_bot=LLMChain(llm=llm_groq,prompt=prompt_context,output_key=\"context_first\")\n"
   ]
  },
  {
   "cell_type": "code",
   "execution_count": 84,
   "id": "f1e1de0a",
   "metadata": {},
   "outputs": [],
   "source": [
    "template_res=\"\"\"You are a Web scrap bot you will get a context and query and reply based on that query as simple as that.\n",
    "Here is Query: {question}\n",
    "Here is context: {context_first}\"\"\"\n",
    "prompt_res=PromptTemplate(template=template_res,input_variables=['question','context_first'])"
   ]
  },
  {
   "cell_type": "code",
   "execution_count": 129,
   "id": "e33738bc",
   "metadata": {},
   "outputs": [],
   "source": [
    "response_bot=LLMChain(llm=llm,prompt=prompt_res,output_key=\"result\")"
   ]
  },
  {
   "cell_type": "code",
   "execution_count": 130,
   "id": "f7e057ff",
   "metadata": {},
   "outputs": [],
   "source": [
    "from langchain.chains import SequentialChain"
   ]
  },
  {
   "cell_type": "code",
   "execution_count": 131,
   "id": "4a255289",
   "metadata": {},
   "outputs": [],
   "source": [
    "from langchain.chains import SequentialChain\n",
    "\n",
    "main_response = SequentialChain(\n",
    "    chains=[context_bot, response_bot],  \n",
    "    input_variables=[\"question\",'context'],   \n",
    "    output_variables=[\"result\"]\n",
    ")\n"
   ]
  },
  {
   "cell_type": "markdown",
   "id": "76512f84",
   "metadata": {},
   "source": [
    "GET WEB CONTENT"
   ]
  },
  {
   "cell_type": "code",
   "execution_count": 136,
   "id": "bd2c2385",
   "metadata": {},
   "outputs": [
    {
     "data": {
      "text/plain": [
       "'Sign in - Google AccountsSign inUse your Google AccountEmail or phoneForgot email?Not your computer? Use a private browsing window to sign in. Learn more about using Guest modeNextCreate account'"
      ]
     },
     "execution_count": 136,
     "metadata": {},
     "output_type": "execute_result"
    }
   ],
   "source": [
    "\n",
    "web_text=web_scrap('https://console.firebase.google.com/project/appp-46475/authentication/users?pli=1')\n",
    "web_text"
   ]
  },
  {
   "cell_type": "code",
   "execution_count": 137,
   "id": "c3bdbad8",
   "metadata": {},
   "outputs": [],
   "source": [
    "question=\"What is this?\"\n",
    "context=web_text"
   ]
  },
  {
   "cell_type": "markdown",
   "id": "14abed81",
   "metadata": {},
   "source": [
    "CONTEXT BOT"
   ]
  },
  {
   "cell_type": "code",
   "execution_count": null,
   "id": "2f967b72",
   "metadata": {},
   "outputs": [
    {
     "data": {
      "text/plain": [
       "{'question': 'What is this?',\n",
       " 'context': 'Sign in - Google AccountsSign inUse your Google AccountEmail or phoneForgot email?Not your computer? Use a private browsing window to sign in. Learn more about using Guest modeNextCreate account',\n",
       " 'context_first': '<think>\\nOkay, so the user is asking, \"What is this?\" and the context provided is about signing into a Google Account. Let me break this down.\\n\\nFirst, I need to understand the context. It mentions \"Sign in - Google Accounts,\" which clearly indicates it\\'s related to Google\\'s sign-in page. The context includes elements like using a Google Account, entering an email or phone number, options for forgotten emails, using a private browsing window, and creating a new account.\\n\\nNow, the user\\'s query is a simple \"What is this?\" So, they\\'re probably looking at this context and want to know what it\\'s about. My job is to figure out the most relevant part of the context to answer their question without adding any extra words.\\n\\nLooking at the context, the key elements are \"Sign in - Google Accounts\" and the actions involved, like using an email or phone, recovering a forgotten email, using Guest mode, and creating an account. These are all components of the Google sign-in process.\\n\\nI should extract the main point here. The context is about the Google sign-in page where users can enter their email or phone number to access their account, recover their email if forgotten, use a private window, or create a new account if they don\\'t have one.\\n\\nSo, the most relevant part to answer \"What is this?\" would be that it\\'s the Google sign-in page where users can log in to their accounts or create a new one. That directly addresses the user\\'s question without unnecessary details.\\n\\nI should make sure the response is concise and only includes the necessary information from the context. No extra words, just the facts. So, the answer should clearly state that it\\'s the Google sign-in page with options to log in, recover accounts, use Guest mode, or create a new account.\\n\\nI think that covers everything the user needs to know. It explains what the context is about in a straightforward manner.\\n</think>\\n\\nThe context appears to be related to signing in to a Google Account. It includes options for entering an email or phone number, recovering a forgotten email, using a private browsing window, and creating a new account.'}"
      ]
     },
     "execution_count": 138,
     "metadata": {},
     "output_type": "execute_result"
    }
   ],
   "source": [
    "context_bot_result = context_bot.invoke({\n",
    "    \"question\": question,\n",
    "    \"context\": context\n",
    "})\n",
    "context_bot_result\n"
   ]
  },
  {
   "cell_type": "markdown",
   "id": "fddbb64b",
   "metadata": {},
   "source": [
    "RESPONSE BOT"
   ]
  },
  {
   "cell_type": "code",
   "execution_count": 139,
   "id": "743dfbb1",
   "metadata": {},
   "outputs": [
    {
     "data": {
      "text/plain": [
       "{'question': 'What is this?',\n",
       " 'context_first': '<think>\\nOkay, so the user is asking, \"What is this?\" and the context provided is about signing into a Google Account. Let me break this down.\\n\\nFirst, I need to understand the context. It mentions \"Sign in - Google Accounts,\" which clearly indicates it\\'s related to Google\\'s sign-in page. The context includes elements like using a Google Account, entering an email or phone number, options for forgotten emails, using a private browsing window, and creating a new account.\\n\\nNow, the user\\'s query is a simple \"What is this?\" So, they\\'re probably looking at this context and want to know what it\\'s about. My job is to figure out the most relevant part of the context to answer their question without adding any extra words.\\n\\nLooking at the context, the key elements are \"Sign in - Google Accounts\" and the actions involved, like using an email or phone, recovering a forgotten email, using Guest mode, and creating an account. These are all components of the Google sign-in process.\\n\\nI should extract the main point here. The context is about the Google sign-in page where users can enter their email or phone number to access their account, recover their email if forgotten, use a private window, or create a new account if they don\\'t have one.\\n\\nSo, the most relevant part to answer \"What is this?\" would be that it\\'s the Google sign-in page where users can log in to their accounts or create a new one. That directly addresses the user\\'s question without unnecessary details.\\n\\nI should make sure the response is concise and only includes the necessary information from the context. No extra words, just the facts. So, the answer should clearly state that it\\'s the Google sign-in page with options to log in, recover accounts, use Guest mode, or create a new account.\\n\\nI think that covers everything the user needs to know. It explains what the context is about in a straightforward manner.\\n</think>\\n\\nThe context appears to be related to signing in to a Google Account. It includes options for entering an email or phone number, recovering a forgotten email, using a private browsing window, and creating a new account.',\n",
       " 'result': 'This is the Google sign-in page, where you can enter your email or phone to access your account, recover a forgotten email, use Guest mode, or create a new account.'}"
      ]
     },
     "execution_count": 139,
     "metadata": {},
     "output_type": "execute_result"
    }
   ],
   "source": [
    "response_bot_result=response_bot.invoke({\n",
    "    'question':question,\n",
    "    'context_first':context_bot_result['context_first']\n",
    "})\n",
    "response_bot_result"
   ]
  },
  {
   "cell_type": "markdown",
   "id": "dcfb9b66",
   "metadata": {},
   "source": [
    "SEQCHAIN\n"
   ]
  },
  {
   "cell_type": "code",
   "execution_count": 140,
   "id": "aa59b836",
   "metadata": {},
   "outputs": [
    {
     "data": {
      "text/plain": [
       "'This is the sign-in page for Google Accounts. It allows you to log in to your Google account using your email or phone number, recover a forgotten email, or create a new account.'"
      ]
     },
     "execution_count": 140,
     "metadata": {},
     "output_type": "execute_result"
    }
   ],
   "source": [
    "main_response_result=main_response.invoke({\n",
    "    'question':question,\n",
    "    'context':web_text\n",
    "})\n",
    "main_response_result['result']"
   ]
  },
  {
   "cell_type": "code",
   "execution_count": null,
   "id": "bb219195",
   "metadata": {},
   "outputs": [],
   "source": []
  }
 ],
 "metadata": {
  "kernelspec": {
   "display_name": "Python 3",
   "language": "python",
   "name": "python3"
  },
  "language_info": {
   "codemirror_mode": {
    "name": "ipython",
    "version": 3
   },
   "file_extension": ".py",
   "mimetype": "text/x-python",
   "name": "python",
   "nbconvert_exporter": "python",
   "pygments_lexer": "ipython3",
   "version": "3.13.5"
  }
 },
 "nbformat": 4,
 "nbformat_minor": 5
}
