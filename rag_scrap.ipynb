{
 "cells": [
  {
   "cell_type": "code",
   "execution_count": 126,
   "id": "17d33662",
   "metadata": {},
   "outputs": [
    {
     "name": "stdout",
     "output_type": "stream",
     "text": [
      "RAG SCRAP\n"
     ]
    }
   ],
   "source": [
    "print(\"RAG SCRAP\")"
   ]
  },
  {
   "cell_type": "code",
   "execution_count": 127,
   "id": "36fa075a",
   "metadata": {},
   "outputs": [
    {
     "data": {
      "text/plain": [
       "True"
      ]
     },
     "execution_count": 127,
     "metadata": {},
     "output_type": "execute_result"
    }
   ],
   "source": [
    "from langchain_groq import ChatGroq\n",
    "from dotenv import load_dotenv\n",
    "import os\n",
    "load_dotenv()"
   ]
  },
  {
   "cell_type": "code",
   "execution_count": 128,
   "id": "7e88762e",
   "metadata": {},
   "outputs": [],
   "source": [
    "GROQ_API_KEY=os.getenv(\"GROQ_API_KEY\")"
   ]
  },
  {
   "cell_type": "code",
   "execution_count": 129,
   "id": "91c4ee07",
   "metadata": {},
   "outputs": [],
   "source": [
    "llm=ChatGroq(\n",
    "    model=\"meta-llama/llama-4-scout-17b-16e-instruct\",\n",
    "    temperature=0.3\n",
    ")"
   ]
  },
  {
   "cell_type": "code",
   "execution_count": 130,
   "id": "af56f8ae",
   "metadata": {},
   "outputs": [
    {
     "data": {
      "text/plain": [
       "\"Cybersecurity! It's a vast and fascinating field that protects computer systems, networks, and sensitive data from unauthorized access, use, disclosure, disruption, modification, or destruction. Here's a comprehensive overview of what I know:\\n\\n**Key Concepts:**\\n\\n1. **Confidentiality**: Protecting sensitive information from unauthorized access.\\n2. **Integrity**: Ensuring data accuracy and preventing modifications or deletions.\\n3. **Availability**: Ensuring systems and data are accessible when needed.\\n\\n**Types of Cyber Threats:**\\n\\n1. **Malware**: Software designed to harm or exploit systems (e.g., viruses, worms, trojans, ransomware).\\n2. **Phishing**: Social engineering attacks using fake emails, messages, or websites to trick users into revealing sensitive information.\\n3. **DDoS (Distributed Denial of Service)**: Overwhelming a system with traffic to make it unavailable.\\n4. **SQL Injection**: Injecting malicious code into databases to access or modify sensitive data.\\n5. **Cross-Site Scripting (XSS)**: Injecting malicious code into websites to steal user data or take control.\\n\\n**Security Measures:**\\n\\n1. **Firewalls**: Network security systems that control incoming and outgoing traffic.\\n2. **Encryption**: Protecting data with algorithms to prevent unauthorized access.\\n3. **Access Control**: Limiting user access to sensitive data and systems.\\n4. **Intrusion Detection and Prevention Systems (IDPS)**: Monitoring network traffic for signs of unauthorized access.\\n5. **Regular Updates and Patches**: Keeping software and systems up-to-date to fix vulnerabilities.\\n\\n**Cybersecurity Frameworks:**\\n\\n1. **NIST Cybersecurity Framework**: A widely adopted framework for managing and reducing cybersecurity risk.\\n2. **ISO 27001**: An international standard for information security management systems.\\n\\n**Best Practices:**\\n\\n1. **Use strong passwords**: Unique, complex passwords for all accounts.\\n2. **Enable two-factor authentication (2FA)**: Adding an extra layer of security to prevent unauthorized access.\\n3. **Keep software up-to-date**: Regularly updating operating systems, applications, and plugins.\\n4. **Be cautious with emails and attachments**: Avoiding suspicious emails and attachments.\\n5. **Back up data**: Regularly backing up important data to prevent losses.\\n\\n**Cybersecurity Careers:**\\n\\n1. **Security Analyst**: Monitoring and analyzing security threats and incidents.\\n2. **Penetration Tester**: Simulating cyber attacks to test system vulnerabilities.\\n3. **Incident Responder**: Responding to and managing security incidents.\\n4. **Chief Information Security Officer (CISO)**: Overseeing and implementing an organization's cybersecurity strategy.\\n\\n**Emerging Trends:**\\n\\n1. **Artificial Intelligence (AI) and Machine Learning (ML)**: Using AI and ML to enhance cybersecurity threat detection and response.\\n2. **Cloud Security**: Protecting cloud-based data and applications.\\n3. **Internet of Things (IoT) Security**: Securing connected devices and preventing IoT-based threats.\\n4. **Quantum Computing**: Preparing for the potential impact of quantum computing on cryptography and cybersecurity.\\n\\nThis is just a glimpse into the world of cybersecurity. If you have specific questions or topics you'd like me to expand on, feel free to ask!\""
      ]
     },
     "execution_count": 130,
     "metadata": {},
     "output_type": "execute_result"
    }
   ],
   "source": [
    "llm.invoke('What you know about cyber security?').content"
   ]
  },
  {
   "cell_type": "code",
   "execution_count": 131,
   "id": "5cc3e65a",
   "metadata": {},
   "outputs": [],
   "source": [
    "from bs4 import BeautifulSoup\n",
    "import requests\n",
    "\n",
    "def web_scrap(url:str)->str:\n",
    "    response=requests.get(url)\n",
    "    html_content=response.text\n",
    "    soup = BeautifulSoup(html_content, \"lxml\")\n",
    "    text = soup.get_text()\n",
    "    text = ' '.join(text.split())\n",
    "    if text:\n",
    "        return text\n",
    "\n"
   ]
  },
  {
   "cell_type": "code",
   "execution_count": 132,
   "id": "45b5ede5",
   "metadata": {},
   "outputs": [],
   "source": [
    "from langchain_text_splitters import RecursiveCharacterTextSplitter\n",
    "from langchain.vectorstores import Chroma\n",
    "from langchain.embeddings import HuggingFaceEmbeddings\n",
    "embed=HuggingFaceEmbeddings(model_name=\"sentence-transformers/all-MiniLM-L6-v2\")\n"
   ]
  },
  {
   "cell_type": "code",
   "execution_count": 133,
   "id": "a360ff3d",
   "metadata": {},
   "outputs": [],
   "source": [
    "from langchain.docstore.document import Document"
   ]
  },
  {
   "cell_type": "code",
   "execution_count": 134,
   "id": "f0e71161",
   "metadata": {},
   "outputs": [],
   "source": [
    "web_text=web_scrap(\"https://www.daraz.pk/catalog/?spm=a2a0e.tm80335142.search.d_go&q=Hp%20laptop\")"
   ]
  },
  {
   "cell_type": "code",
   "execution_count": 135,
   "id": "306a8dd6",
   "metadata": {},
   "outputs": [
    {
     "data": {
      "text/plain": [
       "[Document(metadata={'source': 'web Scraping'}, page_content='Buy Hp laptop Online at Best Price in Pakistan - Daraz.pk Save More on App Download the App Sell On Daraz Help & Support Help Center Contact Customer Care Order Shipping & Delivery Payment Returns & Refunds Login Sign Up Manage My Account My Orders My Wishlist & Followed Stores My Reviews My Returns & Cancellations Logout زبان تبدیل کریں UR / Urdu EN / English Categories Customer Care Help Center How to Buy Corporate & Bulk Purchasing Returns & Refunds Daraz Shop Contact Us Purchase Protection Daraz Pick up Points Daraz About Us Digital Payments Daraz Donates Daraz Blog Terms & Conditions Privacy Policy NTN Number : 4012118-6 STRN Number : 1700401211818 Online Shopping App Online Grocery Shopping Daraz Exclusive Daraz University Sell on Daraz Join Daraz Affiliate Program Happy Shopping Download App Payment Methods Verified by Daraz International Pakistan Bangladesh Sri Lanka Myanmar Nepal Follow Us © Daraz 2025')]"
      ]
     },
     "execution_count": 135,
     "metadata": {},
     "output_type": "execute_result"
    }
   ],
   "source": [
    "web_doc=[Document(page_content=web_text,metadata={'source':'web Scraping'})]\n",
    "web_doc"
   ]
  },
  {
   "cell_type": "code",
   "execution_count": 136,
   "id": "5e9e347d",
   "metadata": {},
   "outputs": [],
   "source": [
    "splitter=RecursiveCharacterTextSplitter(chunk_size=300,chunk_overlap=30)"
   ]
  },
  {
   "cell_type": "code",
   "execution_count": 147,
   "id": "83dcad01",
   "metadata": {},
   "outputs": [],
   "source": [
    "chunks=splitter.split_documents(web_doc)"
   ]
  },
  {
   "cell_type": "code",
   "execution_count": 148,
   "id": "594164f0",
   "metadata": {},
   "outputs": [
    {
     "name": "stdout",
     "output_type": "stream",
     "text": [
      "page_content='Buy Hp laptop Online at Best Price in Pakistan - Daraz.pk Save More on App Download the App Sell On Daraz Help & Support Help Center Contact Customer Care Order Shipping & Delivery Payment Returns & Refunds Login Sign Up Manage My Account My Orders My Wishlist & Followed Stores My Reviews My Returns' metadata={'source': 'web Scraping'}\n",
      "----------\n",
      "page_content='Stores My Reviews My Returns & Cancellations Logout زبان تبدیل کریں UR / Urdu EN / English Categories Customer Care Help Center How to Buy Corporate & Bulk Purchasing Returns & Refunds Daraz Shop Contact Us Purchase Protection Daraz Pick up Points Daraz About Us Digital Payments Daraz Donates Daraz' metadata={'source': 'web Scraping'}\n",
      "----------\n",
      "page_content='Payments Daraz Donates Daraz Blog Terms & Conditions Privacy Policy NTN Number : 4012118-6 STRN Number : 1700401211818 Online Shopping App Online Grocery Shopping Daraz Exclusive Daraz University Sell on Daraz Join Daraz Affiliate Program Happy Shopping Download App Payment Methods Verified by' metadata={'source': 'web Scraping'}\n",
      "----------\n",
      "page_content='Payment Methods Verified by Daraz International Pakistan Bangladesh Sri Lanka Myanmar Nepal Follow Us © Daraz 2025' metadata={'source': 'web Scraping'}\n",
      "----------\n"
     ]
    }
   ],
   "source": [
    "for c in chunks:\n",
    "    print(c)\n",
    "    print('-'*10)"
   ]
  },
  {
   "cell_type": "code",
   "execution_count": 149,
   "id": "acefcde0",
   "metadata": {},
   "outputs": [],
   "source": [
    "vectorstores=Chroma.from_documents(chunks,embed)\n",
    "retriever=vectorstores.as_retriever(search_type='similarity',search_kwargs={'k':4})"
   ]
  },
  {
   "cell_type": "code",
   "execution_count": 150,
   "id": "ea1cbb27",
   "metadata": {},
   "outputs": [],
   "source": [
    "from langchain.chains import RetrievalQA\n",
    "from langchain.prompts import PromptTemplate\n",
    "from langchain.memory import ConversationBufferMemory\n",
    "memory=ConversationBufferMemory()"
   ]
  },
  {
   "cell_type": "code",
   "execution_count": 151,
   "id": "1b88ffbe",
   "metadata": {},
   "outputs": [],
   "source": [
    "template=\"\"\"You are a web Scraper agent. You will get a context and reply based on it.\n",
    "response should not be out of context and not more than 50 words.\n",
    "Here is input: {question}\n",
    "Here is context: {context}\"\"\"\n",
    "prompt=PromptTemplate(template=template,input_variables=['question','context'])"
   ]
  },
  {
   "cell_type": "code",
   "execution_count": 152,
   "id": "fde45581",
   "metadata": {},
   "outputs": [],
   "source": [
    "rag_web_scrap=RetrievalQA.from_chain_type(llm=llm,memory=memory,retriever=retriever,chain_type_kwargs={'prompt':prompt})"
   ]
  },
  {
   "cell_type": "code",
   "execution_count": 153,
   "id": "ea42210c",
   "metadata": {},
   "outputs": [],
   "source": [
    "query='What is this?'"
   ]
  },
  {
   "cell_type": "code",
   "execution_count": 154,
   "id": "18baf1ff",
   "metadata": {},
   "outputs": [],
   "source": [
    "response=rag_web_scrap.invoke(query)"
   ]
  },
  {
   "cell_type": "code",
   "execution_count": 155,
   "id": "43a43c5c",
   "metadata": {},
   "outputs": [
    {
     "name": "stdout",
     "output_type": "stream",
     "text": [
      "-----------RAG WEB SCRAPER---------\n",
      "It appears to be a list of languages, likely from a Wikipedia or similar webpage, given the mention of Creative Commons and Terms of Use at the bottom.\n"
     ]
    }
   ],
   "source": [
    "print('-----------RAG WEB SCRAPER---------')\n",
    "print(response['result'])"
   ]
  },
  {
   "cell_type": "code",
   "execution_count": 156,
   "id": "c1d90af4",
   "metadata": {},
   "outputs": [
    {
     "name": "stdout",
     "output_type": "stream",
     "text": [
      "page_content='Gaeilge GÃ idhlig Ú¯ÛÙÚ©Û àªà«àªàª°àª¾àª¤à« Hak-kÃ¢-ngÃ® / å®¢å®¶èª Hausa Hornjoserbsce Ido Igbo Ilokano Interlingua Interlingue ÐÑÐ¾Ð½ Ãslenska Jawa à²à²¨à³à²¨à²¡ Kapampangan áá¶áá¶ááááá Kotava KreyÃ²l Ayisyen KurdÃ® / ÙÙØ±Ø¯Û Ú©ÙØ±Ø¯ÛÛ ÙØ§ÙÛÙØ¯Û' metadata={'source': 'web Scraping'}\n",
      "----------\n",
      "page_content='This page is available under the Creative Commons Attribution-ShareAlike License Terms of Use Privacy Policy' metadata={'source': 'web Scraping'}\n",
      "----------\n",
      "page_content='à¥ Ù ØµØ±Ù Bahasa Melayu Bahaso Minangkabau áá¼ááºáá¬áá¬áá¬ Nederlands æ¥æ¬èª Norsk (bokmÃ¥l) Norsk (nynorsk) ÐÐ¾Ñ ÑÐ¸Ð¹Ð½ OÊ»zbekcha / ÐÐ·Ð±ÐµÐºÑÐ° Polski PortuguÃªs ÒÐ°Ð·Ð°ÒÑÐ° / QazaqÅa / ÙØ§Ø²Ø§ÙØ´Ø§ RomÃ¢nÄ Simple English Sinugboanong Binisaya SlovenÄina' metadata={'source': 'web Scraping'}\n",
      "----------\n",
      "page_content='NÄhuatlahtÅlli NaijÃ¡ Nedersaksisch Nouormand / Normaund Novial Afaan Oromoo áá¡á­á¯ááºááá¬ááá¬á à¤ªà¤¾à¤²à¤¿ PangasinÃ¡n Pangcah Papiamentu Patois PfÃ¤lzisch Picard ÐÑÐ°ÑÐ°ÑÐ°Ð¹âÐ¼Ð°Ð»ÐºÑÐ°Ñ Ripoarisch Rumantsch Sakizaya Gagana SÄmoa Sardu Seediq Seeltersk Sesotho' metadata={'source': 'web Scraping'}\n",
      "----------\n"
     ]
    }
   ],
   "source": [
    "similarity=vectorstores.similarity_search(query,k=4)\n",
    "for s in similarity:\n",
    "    print(s)\n",
    "    print('-'*10)"
   ]
  },
  {
   "cell_type": "code",
   "execution_count": null,
   "id": "22e1de2d",
   "metadata": {},
   "outputs": [],
   "source": []
  }
 ],
 "metadata": {
  "kernelspec": {
   "display_name": "Python 3",
   "language": "python",
   "name": "python3"
  },
  "language_info": {
   "codemirror_mode": {
    "name": "ipython",
    "version": 3
   },
   "file_extension": ".py",
   "mimetype": "text/x-python",
   "name": "python",
   "nbconvert_exporter": "python",
   "pygments_lexer": "ipython3",
   "version": "3.13.5"
  }
 },
 "nbformat": 4,
 "nbformat_minor": 5
}
